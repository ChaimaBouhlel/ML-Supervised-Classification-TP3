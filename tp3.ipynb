{
 "cells": [
  {
   "cell_type": "code",
   "execution_count": 1,
   "metadata": {},
   "outputs": [
    {
     "name": "stdout",
     "output_type": "stream",
     "text": [
      "[[5.1 3.5 1.4 0.2]\n",
      " [4.9 3.  1.4 0.2]\n",
      " [4.7 3.2 1.3 0.2]\n",
      " [4.6 3.1 1.5 0.2]\n",
      " [5.  3.6 1.4 0.2]\n",
      " [5.4 3.9 1.7 0.4]\n",
      " [4.6 3.4 1.4 0.3]\n",
      " [5.  3.4 1.5 0.2]\n",
      " [4.4 2.9 1.4 0.2]\n",
      " [4.9 3.1 1.5 0.1]\n",
      " [5.4 3.7 1.5 0.2]\n",
      " [4.8 3.4 1.6 0.2]\n",
      " [4.8 3.  1.4 0.1]\n",
      " [4.3 3.  1.1 0.1]\n",
      " [5.8 4.  1.2 0.2]\n",
      " [5.7 4.4 1.5 0.4]\n",
      " [5.4 3.9 1.3 0.4]\n",
      " [5.1 3.5 1.4 0.3]\n",
      " [5.7 3.8 1.7 0.3]\n",
      " [5.1 3.8 1.5 0.3]\n",
      " [5.4 3.4 1.7 0.2]\n",
      " [5.1 3.7 1.5 0.4]\n",
      " [4.6 3.6 1.  0.2]\n",
      " [5.1 3.3 1.7 0.5]\n",
      " [4.8 3.4 1.9 0.2]\n",
      " [5.  3.  1.6 0.2]\n",
      " [5.  3.4 1.6 0.4]\n",
      " [5.2 3.5 1.5 0.2]\n",
      " [5.2 3.4 1.4 0.2]\n",
      " [4.7 3.2 1.6 0.2]\n",
      " [4.8 3.1 1.6 0.2]\n",
      " [5.4 3.4 1.5 0.4]\n",
      " [5.2 4.1 1.5 0.1]\n",
      " [5.5 4.2 1.4 0.2]\n",
      " [4.9 3.1 1.5 0.2]\n",
      " [5.  3.2 1.2 0.2]\n",
      " [5.5 3.5 1.3 0.2]\n",
      " [4.9 3.6 1.4 0.1]\n",
      " [4.4 3.  1.3 0.2]\n",
      " [5.1 3.4 1.5 0.2]\n",
      " [5.  3.5 1.3 0.3]\n",
      " [4.5 2.3 1.3 0.3]\n",
      " [4.4 3.2 1.3 0.2]\n",
      " [5.  3.5 1.6 0.6]\n",
      " [5.1 3.8 1.9 0.4]\n",
      " [4.8 3.  1.4 0.3]\n",
      " [5.1 3.8 1.6 0.2]\n",
      " [4.6 3.2 1.4 0.2]\n",
      " [5.3 3.7 1.5 0.2]\n",
      " [5.  3.3 1.4 0.2]\n",
      " [7.  3.2 4.7 1.4]\n",
      " [6.4 3.2 4.5 1.5]\n",
      " [6.9 3.1 4.9 1.5]\n",
      " [5.5 2.3 4.  1.3]\n",
      " [6.5 2.8 4.6 1.5]\n",
      " [5.7 2.8 4.5 1.3]\n",
      " [6.3 3.3 4.7 1.6]\n",
      " [4.9 2.4 3.3 1. ]\n",
      " [6.6 2.9 4.6 1.3]\n",
      " [5.2 2.7 3.9 1.4]\n",
      " [5.  2.  3.5 1. ]\n",
      " [5.9 3.  4.2 1.5]\n",
      " [6.  2.2 4.  1. ]\n",
      " [6.1 2.9 4.7 1.4]\n",
      " [5.6 2.9 3.6 1.3]\n",
      " [6.7 3.1 4.4 1.4]\n",
      " [5.6 3.  4.5 1.5]\n",
      " [5.8 2.7 4.1 1. ]\n",
      " [6.2 2.2 4.5 1.5]\n",
      " [5.6 2.5 3.9 1.1]\n",
      " [5.9 3.2 4.8 1.8]\n",
      " [6.1 2.8 4.  1.3]\n",
      " [6.3 2.5 4.9 1.5]\n",
      " [6.1 2.8 4.7 1.2]\n",
      " [6.4 2.9 4.3 1.3]\n",
      " [6.6 3.  4.4 1.4]\n",
      " [6.8 2.8 4.8 1.4]\n",
      " [6.7 3.  5.  1.7]\n",
      " [6.  2.9 4.5 1.5]\n",
      " [5.7 2.6 3.5 1. ]\n",
      " [5.5 2.4 3.8 1.1]\n",
      " [5.5 2.4 3.7 1. ]\n",
      " [5.8 2.7 3.9 1.2]\n",
      " [6.  2.7 5.1 1.6]\n",
      " [5.4 3.  4.5 1.5]\n",
      " [6.  3.4 4.5 1.6]\n",
      " [6.7 3.1 4.7 1.5]\n",
      " [6.3 2.3 4.4 1.3]\n",
      " [5.6 3.  4.1 1.3]\n",
      " [5.5 2.5 4.  1.3]\n",
      " [5.5 2.6 4.4 1.2]\n",
      " [6.1 3.  4.6 1.4]\n",
      " [5.8 2.6 4.  1.2]\n",
      " [5.  2.3 3.3 1. ]\n",
      " [5.6 2.7 4.2 1.3]\n",
      " [5.7 3.  4.2 1.2]\n",
      " [5.7 2.9 4.2 1.3]\n",
      " [6.2 2.9 4.3 1.3]\n",
      " [5.1 2.5 3.  1.1]\n",
      " [5.7 2.8 4.1 1.3]\n",
      " [6.3 3.3 6.  2.5]\n",
      " [5.8 2.7 5.1 1.9]\n",
      " [7.1 3.  5.9 2.1]\n",
      " [6.3 2.9 5.6 1.8]\n",
      " [6.5 3.  5.8 2.2]\n",
      " [7.6 3.  6.6 2.1]\n",
      " [4.9 2.5 4.5 1.7]\n",
      " [7.3 2.9 6.3 1.8]\n",
      " [6.7 2.5 5.8 1.8]\n",
      " [7.2 3.6 6.1 2.5]\n",
      " [6.5 3.2 5.1 2. ]\n",
      " [6.4 2.7 5.3 1.9]\n",
      " [6.8 3.  5.5 2.1]\n",
      " [5.7 2.5 5.  2. ]\n",
      " [5.8 2.8 5.1 2.4]\n",
      " [6.4 3.2 5.3 2.3]\n",
      " [6.5 3.  5.5 1.8]\n",
      " [7.7 3.8 6.7 2.2]\n",
      " [7.7 2.6 6.9 2.3]\n",
      " [6.  2.2 5.  1.5]\n",
      " [6.9 3.2 5.7 2.3]\n",
      " [5.6 2.8 4.9 2. ]\n",
      " [7.7 2.8 6.7 2. ]\n",
      " [6.3 2.7 4.9 1.8]\n",
      " [6.7 3.3 5.7 2.1]\n",
      " [7.2 3.2 6.  1.8]\n",
      " [6.2 2.8 4.8 1.8]\n",
      " [6.1 3.  4.9 1.8]\n",
      " [6.4 2.8 5.6 2.1]\n",
      " [7.2 3.  5.8 1.6]\n",
      " [7.4 2.8 6.1 1.9]\n",
      " [7.9 3.8 6.4 2. ]\n",
      " [6.4 2.8 5.6 2.2]\n",
      " [6.3 2.8 5.1 1.5]\n",
      " [6.1 2.6 5.6 1.4]\n",
      " [7.7 3.  6.1 2.3]\n",
      " [6.3 3.4 5.6 2.4]\n",
      " [6.4 3.1 5.5 1.8]\n",
      " [6.  3.  4.8 1.8]\n",
      " [6.9 3.1 5.4 2.1]\n",
      " [6.7 3.1 5.6 2.4]\n",
      " [6.9 3.1 5.1 2.3]\n",
      " [5.8 2.7 5.1 1.9]\n",
      " [6.8 3.2 5.9 2.3]\n",
      " [6.7 3.3 5.7 2.5]\n",
      " [6.7 3.  5.2 2.3]\n",
      " [6.3 2.5 5.  1.9]\n",
      " [6.5 3.  5.2 2. ]\n",
      " [6.2 3.4 5.4 2.3]\n",
      " [5.9 3.  5.1 1.8]]\n",
      "[0 0 0 0 0 0 0 0 0 0 0 0 0 0 0 0 0 0 0 0 0 0 0 0 0 0 0 0 0 0 0 0 0 0 0 0 0\n",
      " 0 0 0 0 0 0 0 0 0 0 0 0 0 1 1 1 1 1 1 1 1 1 1 1 1 1 1 1 1 1 1 1 1 1 1 1 1\n",
      " 1 1 1 1 1 1 1 1 1 1 1 1 1 1 1 1 1 1 1 1 1 1 1 1 1 1 2 2 2 2 2 2 2 2 2 2 2\n",
      " 2 2 2 2 2 2 2 2 2 2 2 2 2 2 2 2 2 2 2 2 2 2 2 2 2 2 2 2 2 2 2 2 2 2 2 2 2\n",
      " 2 2]\n"
     ]
    }
   ],
   "source": [
    "from sklearn import datasets\n",
    "\n",
    "irisData = datasets.load_iris()\n",
    "print (irisData.data)\n",
    "print (irisData.target)"
   ]
  },
  {
   "cell_type": "code",
   "execution_count": 2,
   "metadata": {},
   "outputs": [
    {
     "name": "stdout",
     "output_type": "stream",
     "text": [
      "['sepal length (cm)', 'sepal width (cm)', 'petal length (cm)', 'petal width (cm)']\n",
      "['setosa' 'versicolor' 'virginica']\n"
     ]
    }
   ],
   "source": [
    "print(irisData.feature_names)\n",
    "print(irisData.target_names)"
   ]
  },
  {
   "cell_type": "code",
   "execution_count": 5,
   "metadata": {},
   "outputs": [
    {
     "name": "stdout",
     "output_type": "stream",
     "text": [
      "150\n"
     ]
    }
   ],
   "source": [
    "#nbre d'instances dans le dataset\n",
    "print(irisData.data.shape[0])"
   ]
  },
  {
   "cell_type": "code",
   "execution_count": 6,
   "metadata": {},
   "outputs": [
    {
     "name": "stdout",
     "output_type": "stream",
     "text": [
      "(150, 4)\n"
     ]
    }
   ],
   "source": [
    "print(irisData.data.shape)"
   ]
  },
  {
   "cell_type": "code",
   "execution_count": 10,
   "metadata": {},
   "outputs": [
    {
     "name": "stdout",
     "output_type": "stream",
     "text": [
      "50\n"
     ]
    }
   ],
   "source": [
    "print(len(irisData.target[irisData.target==0]))"
   ]
  },
  {
   "cell_type": "code",
   "execution_count": 12,
   "metadata": {},
   "outputs": [
    {
     "name": "stdout",
     "output_type": "stream",
     "text": [
      "[0 0 0 0 0 0 0 0 0 0 0 0 0 0 0 0 0 0 0 0 0 0 0 0 0 0 0 0 0 0 0 0 0 0 0 0 0\n",
      " 0 0 0 0 0 0 0 0 0 0 0 0 0 1 1 1 1 1 1 1 1 1 1 1 1 1 1 1 1 1 1 1 1 1 1 1 1\n",
      " 1 1 1 1 1 1 1 1 1 1 1 1 1 1 1 1 1 1 1 1 1 1 1 1 1 1 2 2 2 2 2 2 2 2 2 2 2\n",
      " 2 2 2 2 2 2 2 2 2 2 2 2 2 2 2 2 2 2 2 2 2 2 2 2 2 2 2 2 2 2 2 2 2 2 2 2 2\n",
      " 2 2]\n"
     ]
    }
   ],
   "source": [
    "print(irisData.target)"
   ]
  },
  {
   "cell_type": "code",
   "execution_count": 13,
   "metadata": {},
   "outputs": [
    {
     "name": "stdout",
     "output_type": "stream",
     "text": [
      "50\n",
      "50\n",
      "50\n"
     ]
    }
   ],
   "source": [
    "for i in range(len(irisData.target_names)):\n",
    "    print(len(irisData.target[irisData.target==i]))"
   ]
  },
  {
   "cell_type": "code",
   "execution_count": 14,
   "metadata": {},
   "outputs": [
    {
     "name": "stdout",
     "output_type": "stream",
     "text": [
      "Counter({0: 50, 1: 50, 2: 50})\n"
     ]
    }
   ],
   "source": [
    "from collections import Counter\n",
    "print(Counter(irisData.target))"
   ]
  },
  {
   "cell_type": "code",
   "execution_count": 16,
   "metadata": {},
   "outputs": [
    {
     "name": "stdout",
     "output_type": "stream",
     "text": [
      "[5.4 3.4 1.5 0.4]\n"
     ]
    }
   ],
   "source": [
    "#Quels sont les attributs et la classe du 32ème élément de l'échantillon ?\n",
    "print(irisData.data[31])"
   ]
  },
  {
   "cell_type": "code",
   "execution_count": 17,
   "metadata": {},
   "outputs": [
    {
     "data": {
      "image/png": "[encoded data removed]",
      "text/plain": [
       "<Figure size 640x480 with 1 Axes>"
      ]
     },
     "metadata": {},
     "output_type": "display_data"
    }
   ],
   "source": [
    "import matplotlib.pyplot as plt\n",
    "from itertools import cycle\n",
    "\n",
    "def plot_2D(data, target, target_names):\n",
    "    colors = cycle('rgbcmykw') # Cycle through colors\n",
    "    target_ids = range(len(target_names))\n",
    "    \n",
    "    plt.figure()\n",
    "    \n",
    "    for i, c, label in zip(target_ids, colors, target_names):\n",
    "        plt.scatter(data[target == i, 0], data[target == i, 1], c=c, label=label)\n",
    "    \n",
    "    plt.legend()  # Add a single legend for all classes\n",
    "    plt.show()\n",
    "\n",
    "plot_2D(irisData.data, irisData.target, irisData.target_names)"
   ]
  },
  {
   "cell_type": "code",
   "execution_count": 22,
   "metadata": {},
   "outputs": [
    {
     "data": {
      "image/png": "[encoded data removed]",
      "text/plain": [
       "<Figure size 640x480 with 1 Axes>"
      ]
     },
     "metadata": {},
     "output_type": "display_data"
    }
   ],
   "source": [
    "from sklearn import datasets\n",
    "import matplotlib.pyplot as plt\n",
    "from itertools import cycle\n",
    "\n",
    "irisData = datasets.load_iris()\n",
    "\n",
    "def plot_2D(data, target, target_names):\n",
    "    colors = cycle('rgbcmykw')\n",
    "    target_ids = range(len(target_names))\n",
    "\n",
    "    plt.figure()\n",
    "\n",
    "    for i, c, label in zip(target_ids, colors, target_names):\n",
    "        plt.scatter(data[target == i, 2], data[target == i, 3], c=c, label=label)\n",
    "\n",
    "    plt.legend()  # Add a single legend for all classes\n",
    "    plt.xlabel('Petal Length')\n",
    "    plt.ylabel('Petal Width')\n",
    "    plt.show()\n",
    "\n",
    "plot_2D(irisData.data, irisData.target, irisData.target_names)"
   ]
  },
  {
   "cell_type": "markdown",
   "metadata": {},
   "source": [
    "Est-ce qu'il existe un espace 2D (constitué de deux attributs) dans lequel une droite\n",
    "(parmi d'autres) permettrait de séparer les exemples d'une classe des exemples des deux\n",
    "autres classes ? Si oui, fournir une équation de cette droite."
   ]
  },
  {
   "cell_type": "code",
   "execution_count": 30,
   "metadata": {},
   "outputs": [
    {
     "data": {
      "image/png": "[encoded data removed]",
      "text/plain": [
       "<Figure size 640x480 with 1 Axes>"
      ]
     },
     "metadata": {},
     "output_type": "display_data"
    }
   ],
   "source": [
    "from sklearn import datasets\n",
    "import matplotlib.pyplot as plt\n",
    "from itertools import cycle\n",
    "\n",
    "irisData = datasets.load_iris()\n",
    "\n",
    "def plot_2D(data, target, target_names):\n",
    "    colors = cycle('rgbcmykw')\n",
    "    target_ids = range(len(target_names))\n",
    "\n",
    "    plt.figure()\n",
    "\n",
    "    for i, c, label in zip(target_ids, colors, target_names):\n",
    "        plt.scatter(data[target == i, 2], data[target == i, 3], c=c, label=label)\n",
    "\n",
    "    plt.legend()  # Add a single legend for all classes\n",
    "    plt.xlabel('Petal Length')\n",
    "    plt.ylabel('Petal Width')\n",
    "    plt.plot([2.5,2.5],[0,3],'y--')\n",
    "    plt.plot([0.75, 7],[0.75,0.75],'m--')\n",
    "    plt.show()\n",
    "\n",
    "plot_2D(irisData.data, irisData.target, irisData.target_names)\n"
   ]
  },
  {
   "cell_type": "code",
   "execution_count": 23,
   "metadata": {},
   "outputs": [
    {
     "data": {
      "image/png": "[encoded data removed]",
      "text/plain": [
       "<Figure size 640x480 with 1 Axes>"
      ]
     },
     "metadata": {},
     "output_type": "display_data"
    }
   ],
   "source": [
    "from sklearn import datasets\n",
    "from sklearn.svm import SVC\n",
    "import matplotlib.pyplot as plt\n",
    "import numpy as np\n",
    "\n",
    "# Charger le jeu de données Iris\n",
    "irisData = datasets.load_iris()\n",
    "X = irisData.data[:, [2, 3]]  # Utilisez les colonnes 2 (petal length) et 3 (petal width) comme attributs\n",
    "y = irisData.target\n",
    "\n",
    "# Entraîner un classificateur SVM linéaire\n",
    "clf = SVC(kernel='linear', C=1.0)\n",
    "clf.fit(X, y)\n",
    "\n",
    "# Tracé des exemples et de la frontière de décision\n",
    "plt.scatter(X[:, 0], X[:, 1], c=y, cmap=plt.cm.Paired)\n",
    "\n",
    "# Obtenir les coefficients de la droite\n",
    "w = clf.coef_[0]\n",
    "a = -w[0] / w[1]\n",
    "xx = np.linspace(1, 7)\n",
    "yy = a * xx - (clf.intercept_[0]) / w[1]\n",
    "\n",
    "# Tracer la droite de décision\n",
    "plt.plot(xx, yy, 'k-')\n",
    "plt.xlabel('Petal Length')\n",
    "plt.ylabel('Petal Width')\n",
    "plt.show()\n"
   ]
  },
  {
   "cell_type": "code",
   "execution_count": 45,
   "metadata": {},
   "outputs": [
    {
     "name": "stdout",
     "output_type": "stream",
     "text": [
      "[0]\n",
      "[2]\n",
      "[0 0 0 0 0 0 0 0 0 0 0 0 0 0 0 0 0 0 0 0 0 0 0 0 0 0 0 0 0 0 0 0 0 0 0 0 0\n",
      " 0 0 0 0 0 0 0 0 0 0 0 0 0 1 1 1 1 1 1 1 1 1 1 1 1 1 1 1 1 1 1 1 1 1 1 1 1\n",
      " 1 1 1 1 1 1 1 1 1 2 1 1 1 1 1 1 1 1 1 1 1 1 1 1 1 1 2 2 2 2 2 2 2 2 2 2 2\n",
      " 2 2 2 2 2 2 2 2 2 2 2 2 2 2 1 2 2 2 1 2 1 2 1 2 2 2 2 2 2 2 2 2 2 2 2 2 2\n",
      " 2 2]\n"
     ]
    }
   ],
   "source": [
    "from sklearn import naive_bayes\n",
    "nb = naive_bayes.MultinomialNB(fit_prior=True)# un algo d'apprentissage\n",
    "irisData = datasets.load_iris()\n",
    "nb.fit(irisData.data[:-1], irisData.target[:-1])\n",
    "p31 = nb.predict(irisData.data[31:32])\n",
    "print (p31)\n",
    "plast = nb.predict(irisData.data[-1:])\n",
    "print (plast)\n",
    "p = nb.predict(irisData.data[:])\n",
    "print (p)"
   ]
  },
  {
   "cell_type": "markdown",
   "metadata": {},
   "source": [
    "prediction ghalta, partition khayba bch yetaalam al les deux premieres classes w bch ntestio al 3eme => lezm nekhdho men kol classe une partie "
   ]
  },
  {
   "cell_type": "code",
   "execution_count": 37,
   "metadata": {},
   "outputs": [
    {
     "data": {
      "text/plain": [
       "array([1, 1, 1, 1, 1, 1, 1, 1, 1, 1, 1, 1, 1, 1, 1, 1, 1, 1, 1, 1, 1, 1,\n",
       "       1, 1, 1, 1, 1, 1, 1, 1, 1, 1, 1, 1, 1, 1, 1, 1, 1, 1, 1, 1, 1, 1,\n",
       "       1, 1, 1, 1, 1])"
      ]
     },
     "execution_count": 37,
     "metadata": {},
     "output_type": "execute_result"
    }
   ],
   "source": [
    "from sklearn import naive_bayes\n",
    "nb = naive_bayes.MultinomialNB(fit_prior=True)\n",
    "nb.fit(irisData.data[:99], irisData.target[:99])\n",
    "nb.predict(irisData.data[100:149])"
   ]
  },
  {
   "cell_type": "code",
   "execution_count": 43,
   "metadata": {},
   "outputs": [
    {
     "name": "stdout",
     "output_type": "stream",
     "text": [
      "0.04666666666666667\n",
      "7\n"
     ]
    }
   ],
   "source": [
    "ea = 0\n",
    "Y = irisData.target\n",
    "nb.fit(irisData.data[:], irisData.target[:])\n",
    "P = nb.predict(irisData.data[:])\n",
    "for i in range(len(irisData.data)):\n",
    "    if (P[i] != Y[i]):\n",
    "        ea = ea+1\n",
    "print(ea/len(irisData.data))\n",
    "print(ea) #nbre d'instance erronées\n"
   ]
  },
  {
   "cell_type": "markdown",
   "metadata": {},
   "source": [
    "=> malgré taalam aliha kaad yoghlet \n",
    "tt depend mel dataset li amal alif training\n",
    "on peut faire une analyse pour voir les instances erronées"
   ]
  },
  {
   "cell_type": "code",
   "execution_count": 52,
   "metadata": {},
   "outputs": [
    {
     "name": "stdout",
     "output_type": "stream",
     "text": [
      "(array([ 68,  70,  72,  83, 129, 131, 133], dtype=int64),)\n"
     ]
    }
   ],
   "source": [
    "print(np.nonzero(P-Y))"
   ]
  },
  {
   "cell_type": "code",
   "execution_count": 54,
   "metadata": {},
   "outputs": [
    {
     "name": "stdout",
     "output_type": "stream",
     "text": [
      "Accuracy: 1.00\n"
     ]
    }
   ],
   "source": [
    "from sklearn import datasets\n",
    "from sklearn.model_selection import train_test_split\n",
    "from sklearn.tree import DecisionTreeClassifier\n",
    "\n",
    "# Step 1: Import necessary libraries\n",
    "\n",
    "# Step 2: Load the Iris dataset\n",
    "irisData = datasets.load_iris()\n",
    "\n",
    "# Split the data into features and target\n",
    "X = irisData.data\n",
    "y = irisData.target\n",
    "\n",
    "# Step 3: Create a classifier and fit it to the data\n",
    "clf = DecisionTreeClassifier()\n",
    "clf.fit(X, y)\n",
    "\n",
    "# Step 4: Use the `score` method to evaluate the classifier's performance\n",
    "score = clf.score(X, y)\n",
    "print(f\"Accuracy: {score:.2f}\")"
   ]
  },
  {
   "cell_type": "code",
   "execution_count": 55,
   "metadata": {},
   "outputs": [],
   "source": [
    "from sklearn.model_selection import train_test_split\n",
    "from sklearn import datasets\n",
    "\n",
    "# Charger l'ensemble de données Iris\n",
    "irisData = datasets.load_iris()\n",
    "X = irisData.data\n",
    "y = irisData.target\n",
    "\n",
    "# Diviser l'ensemble de données en S1 et S2\n",
    "X_S1, X_S2, y_S1, y_S2 = train_test_split(X, y, test_size=1/3, random_state=42)\n",
    "\n",
    "# Maintenant, X_S1 et y_S1 contiennent les données et les étiquettes pour l'ensemble d'apprentissage\n",
    "# X_S2 et y_S2 contiennent les données et les étiquettes pour l'ensemble de test\n"
   ]
  },
  {
   "cell_type": "code",
   "execution_count": null,
   "metadata": {},
   "outputs": [],
   "source": [
    "import random\n",
    "\n",
    "def split(S):\n",
    "    # Obtenir les données (X) et les étiquettes (y) de S\n",
    "    dataS = S.data\n",
    "    targetS = S.target\n",
    "\n",
    "    # Calculer la taille de S1 en fonction de la proportion souhaitée (2/3 de la taille de S)\n",
    "    size_S1 = len(S.data) * 2 // 3\n",
    "\n",
    "    # Créer un indice aléatoire pour diviser les données\n",
    "    indices = list(range(len(dataS)))\n",
    "    random.shuffle(indices)\n",
    "\n",
    "    # Diviser les indices en deux parties en utilisant la taille calculée\n",
    "    indices_S1 = indices[:size_S1]\n",
    "    indices_S2 = indices[size_S1:]\n",
    "\n",
    "    # Créer les ensembles de données et d'étiquettes pour S1 et S2\n",
    "    dataS1 = dataS[indices_S1]\n",
    "    targetS1 = targetS[indices_S1]\n",
    "    dataS2 = dataS[indices_S2]\n",
    "    targetS2 = targetS[indices_S2]\n",
    "\n",
    "    return dataS1, targetS1, dataS2, targetS2\n",
    "\n",
    "# Exemple d'utilisation sur l'ensemble de données Iris\n",
    "from sklearn import datasets\n",
    "\n",
    "irisData = datasets.load_iris()\n",
    "dataS1, targetS1, dataS2, targetS2 = split(irisData)\n",
    "\n",
    "# dataS1 et targetS1 contiennent les données et les étiquettes pour S1\n",
    "# dataS2 et targetS2 contiennent les données et les étiquettes pour S2\n"
   ]
  },
  {
   "cell_type": "code",
   "execution_count": 123,
   "metadata": {},
   "outputs": [
    {
     "name": "stdout",
     "output_type": "stream",
     "text": [
      "0.34\n"
     ]
    }
   ],
   "source": [
    "import random\n",
    "\n",
    "irisData = datasets.load_iris()\n",
    "\n",
    "def split(S):\n",
    "    dataS = S.data\n",
    "    targetS = S.target\n",
    "\n",
    "    size_S1 = len(S.data) * 2 // 3\n",
    "\n",
    "    indices = list(range(len(dataS)))\n",
    "    random.shuffle(indices)\n",
    "\n",
    "    indices_S1 = indices[:size_S1]\n",
    "    indices_S2 = indices[size_S1:]\n",
    "\n",
    "    dataS1 = dataS[indices_S1]\n",
    "    targetS1 = targetS[indices_S1]\n",
    "    dataS2 = dataS[indices_S2]\n",
    "    targetS2 = targetS[indices_S2]\n",
    "\n",
    "    return dataS1, targetS1, dataS2, targetS2\n",
    "\n",
    "def test(S, nb):\n",
    "    \n",
    "    dataS1, targetS1, dataS2, targetS2 = split(S)\n",
    "\n",
    "    nb.fit(dataS1, targetS1)\n",
    "\n",
    "    y_pred = nb.predict(dataS2)\n",
    "    ea = 0\n",
    "    for i in range(len(targetS2)):\n",
    "        if (y_pred[i] != targetS2[i]):\n",
    "            ea = ea+1\n",
    "\n",
    "    error_rate = ea/len(targetS2)\n",
    "    return error_rate\n",
    "\n",
    "nb = naive_bayes.MultinomialNB(fit_prior=True)\n",
    "err = test(irisData, nb)\n",
    "print(err)\n"
   ]
  },
  {
   "cell_type": "code",
   "execution_count": 126,
   "metadata": {},
   "outputs": [
    {
     "name": "stdout",
     "output_type": "stream",
     "text": [
      "0.20406000000000005\n"
     ]
    }
   ],
   "source": [
    "err = 0\n",
    "for i in range(1000):\n",
    "    err += test(irisData, nb)\n",
    "err = err / 1000\n",
    "print(err)"
   ]
  },
  {
   "cell_type": "code",
   "execution_count": 143,
   "metadata": {},
   "outputs": [
    {
     "name": "stdout",
     "output_type": "stream",
     "text": [
      "0.17844736842105272\n"
     ]
    }
   ],
   "source": [
    "def test2(S, clf):\n",
    "    # Split the dataset into training and testing sets\n",
    "    X, y = S.data, S.target\n",
    "    X_train, X_test, y_train, y_test = train_test_split(X, y, test_size=0.25)\n",
    "\n",
    "    clf.fit(X_train, y_train)\n",
    "\n",
    "    y_pred = clf.predict(X_test)\n",
    "\n",
    "    ea = 0\n",
    "    for i in range(len(y_test)):\n",
    "        if (y_pred[i] != y_test[i]):\n",
    "            ea = ea+1\n",
    "\n",
    "    error_rate = ea/len(y_test)\n",
    "    \n",
    "    return error_rate\n",
    "\n",
    "err = 0\n",
    "for i in range(1000):\n",
    "    err += test2(irisData, nb)\n",
    "err = err / 1000\n",
    "print(err)"
   ]
  },
  {
   "cell_type": "code",
   "execution_count": 145,
   "metadata": {},
   "outputs": [
    {
     "name": "stdout",
     "output_type": "stream",
     "text": [
      "0.11966666666666693\n"
     ]
    }
   ],
   "source": [
    "def split(S):\n",
    "    dataS = S.data\n",
    "    targetS = S.target\n",
    "\n",
    "    size_S1 = len(S.data) * 9 // 10\n",
    "\n",
    "    indices = list(range(len(dataS)))\n",
    "    random.shuffle(indices)\n",
    "\n",
    "    indices_S1 = indices[:size_S1]\n",
    "    indices_S2 = indices[size_S1:]\n",
    "\n",
    "    dataS1 = dataS[indices_S1]\n",
    "    targetS1 = targetS[indices_S1]\n",
    "    dataS2 = dataS[indices_S2]\n",
    "    targetS2 = targetS[indices_S2]\n",
    "\n",
    "    return dataS1, targetS1, dataS2, targetS2\n",
    "def test(S, nb):\n",
    "    \n",
    "    dataS1, targetS1, dataS2, targetS2 = split(S)\n",
    "\n",
    "    nb.fit(dataS1, targetS1)\n",
    "\n",
    "    y_pred = nb.predict(dataS2)\n",
    "    ea = 0\n",
    "    for i in range(len(targetS2)):\n",
    "        if (y_pred[i] != targetS2[i]):\n",
    "            ea = ea+1\n",
    "\n",
    "    error_rate = ea/len(targetS2)\n",
    "    return error_rate\n",
    "\n",
    "err = 0\n",
    "for i in range(1000):\n",
    "    err += test(irisData, nb)\n",
    "err = err / 1000\n",
    "print(err)"
   ]
  }
 ],
 "metadata": {
  "kernelspec": {
   "display_name": "Python 3",
   "language": "python",
   "name": "python3"
  },
  "language_info": {
   "codemirror_mode": {
    "name": "ipython",
    "version": 3
   },
   "file_extension": ".py",
   "mimetype": "text/x-python",
   "name": "python",
   "nbconvert_exporter": "python",
   "pygments_lexer": "ipython3",
   "version": "3.10.11"
  }
 },
 "nbformat": 4,
 "nbformat_minor": 2
}
